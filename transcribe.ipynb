{
 "cells": [
  {
   "cell_type": "code",
   "execution_count": 1,
   "id": "e275fc2f",
   "metadata": {},
   "outputs": [],
   "source": [
    "#!/usr/bin/env python\n",
    "import os, json, argparse, datetime, math\n",
    "import torch\n",
    "import whisperx\n",
    "import subprocess\n",
    "import tempfile\n",
    "import wave\n",
    "import contextlib"
   ]
  },
  {
   "cell_type": "code",
   "execution_count": 2,
   "id": "97d5d473",
   "metadata": {},
   "outputs": [],
   "source": [
    "def get_duration_sec(audio_path: str) -> float:\n",
    "    try:\n",
    "        with contextlib.closing(wave.open(audio_path,'r')) as f:\n",
    "            frames = f.getnframes()\n",
    "            rate = f.getframerate()\n",
    "            return frames / float(rate)\n",
    "    except Exception:\n",
    "        # fallback con ffprobe si no es WAV\n",
    "        try:\n",
    "            out = subprocess.check_output([\n",
    "                \"ffprobe\",\"-v\",\"error\",\"-show_entries\",\"format=duration\",\n",
    "                \"-of\",\"default=noprint_wrappers=1:nokey=1\", audio_path\n",
    "            ]).decode().strip()\n",
    "            return float(out)\n",
    "        except Exception:\n",
    "            return None\n",
    "\n",
    "def merge_contiguous_turns(segments):\n",
    "    \"\"\"Une segmentos consecutivos del mismo speaker en un único turno.\"\"\"\n",
    "    if not segments: return []\n",
    "    merged = []\n",
    "    cur = dict(speaker=segments[0][\"speaker\"], start=segments[0][\"start\"], end=segments[0][\"end\"], text=segments[0][\"text\"])\n",
    "    for seg in segments[1:]:\n",
    "        if seg[\"speaker\"] == cur[\"speaker\"] and (seg[\"start\"] - cur[\"end\"]) <= 0.6:\n",
    "            # pegar si están pegados o muy cercanos (0.6s)\n",
    "            cur[\"end\"] = seg[\"end\"]\n",
    "            cur[\"text\"] += (\" \" if cur[\"text\"] else \"\") + seg[\"text\"]\n",
    "        else:\n",
    "            merged.append(cur)\n",
    "            cur = dict(speaker=seg[\"speaker\"], start=seg[\"start\"], end=seg[\"end\"], text=seg[\"text\"])\n",
    "    merged.append(cur)\n",
    "    return merged\n",
    "\n",
    "def guess_interviewer(speaker_stats, turns):\n",
    "    # Heurística: entrevistador = quien hace más preguntas y habla menos tiempo.\n",
    "    # 1) contar signos de interrogación y frases interrogativas por speaker\n",
    "    q_words = (\"¿\", \"?\", \"qué\", \"que\", \"quién\", \"quien\", \"cuándo\", \"cuando\", \"dónde\", \"donde\",\n",
    "               \"por qué\", \"por que\", \"cómo\", \"como\", \"cuál\", \"cual\", \"cuáles\", \"cuales\")\n",
    "    q_score = {spk:0 for spk in speaker_stats}\n",
    "    for t in turns:\n",
    "        txt = t[\"text\"].lower()\n",
    "        if any(w in txt for w in q_words):\n",
    "            q_score[t[\"speaker\"]] += 1\n",
    "    # 2) normalizar por tiempo total (quien pregunta más/tiempo) y habla menos\n",
    "    best = None\n",
    "    best_val = -1e9\n",
    "    for spk, st in speaker_stats.items():\n",
    "        time = st[\"total_sec\"]\n",
    "        asks = q_score.get(spk,0)\n",
    "        # más preguntas por minuto y menos tiempo total => mayor score\n",
    "        val = (asks / max(time,1e-6)) - 0.001*time\n",
    "        if val > best_val:\n",
    "            best_val = val\n",
    "            best = spk\n",
    "    return best\n",
    "\n",
    "def build_qa(turns, interviewer):\n",
    "    \"\"\"Forma pares Q->A: pregunta del entrevistador y respuesta(s) hasta que el entrevistador hable de nuevo.\"\"\"\n",
    "    qa = []\n",
    "    i = 0\n",
    "    while i < len(turns):\n",
    "        t = turns[i]\n",
    "        if t[\"speaker\"] == interviewer and (\"?\" in t[\"text\"] or \"¿\" in t[\"text\"]):\n",
    "            q = {\n",
    "                \"q_speaker\": interviewer,\n",
    "                \"q_start\": t[\"start\"],\n",
    "                \"q_end\": t[\"end\"],\n",
    "                \"question\": t[\"text\"].strip(),\n",
    "                \"answers\": []\n",
    "            }\n",
    "            i += 1\n",
    "            # recolecta todas las réplicas de otros speakers hasta que vuelva a hablar el entrevistador\n",
    "            while i < len(turns) and turns[i][\"speaker\"] != interviewer:\n",
    "                a = turns[i]\n",
    "                if a[\"text\"].strip():\n",
    "                    q[\"answers\"].append({\n",
    "                        \"a_speaker\": a[\"speaker\"],\n",
    "                        \"a_start\": a[\"start\"],\n",
    "                        \"a_end\": a[\"end\"],\n",
    "                        \"answer\": a[\"text\"].strip()\n",
    "                    })\n",
    "                i += 1\n",
    "            qa.append(q)\n",
    "        else:\n",
    "            i += 1\n",
    "    return qa"
   ]
  },
  {
   "cell_type": "code",
   "execution_count": 3,
   "id": "593c2209",
   "metadata": {},
   "outputs": [],
   "source": [
    "drive_path = os.getenv(\"DRIVE_PATH\")\n",
    "if not drive_path:\n",
    "    raise ValueError(\"Debe definir la variable de entorno DRIVE_PATH con la ruta a Google Drive.\")\n",
    "# Filtrar solo archivos con extensiones de audio o video comunes\n",
    "audio_video_exts = ('.mp3', '.aac', '.m4a', '.mp4', '.wav')\n",
    "drive_files = [f for f in os.listdir(drive_path) if f.lower().endswith(audio_video_exts)]"
   ]
  },
  {
   "cell_type": "code",
   "execution_count": 4,
   "id": "ca4d16a7",
   "metadata": {},
   "outputs": [
    {
     "name": "stdout",
     "output_type": "stream",
     "text": [
      "🔹 Configurando parámetros...\n",
      "🔹 Usando device: cpu\n"
     ]
    }
   ],
   "source": [
    "import os\n",
    "import torch\n",
    "import datetime\n",
    "import json\n",
    "import torch\n",
    "\n",
    "# Crear carpeta de salida\n",
    "output_dir = os.path.join(drive_path, \"output_json\")\n",
    "os.makedirs(output_dir, exist_ok=True)\n",
    "\n",
    "# Parámetros configurables como variables\n",
    "print(\"🔹 Configurando parámetros...\")\n",
    "model_name = \"large-v3\"\n",
    "hf_token = os.getenv(\"HF_TOKEN\")\n",
    "\n",
    "# --- Elección de dispositivos por etapa ---\n",
    "has_cuda = torch.cuda.is_available()\n",
    "has_mps  = torch.backends.mps.is_available()\n",
    "\n",
    "# ASR (WhisperX/Faster-Whisper via CTranslate2) -> NO soporta MPS\n",
    "# asr_device      = \"cuda\" if has_cuda else \"cpu\"\n",
    "# asr_compute     = \"float16\" if has_cuda else \"int8\"   # int8 va bien en CPU\n",
    "asr_device      = \"cpu\"\n",
    "asr_compute     = \"int8\"   # int8 va bien en CPU\n",
    "\n",
    "# Alineación (MFA/CTranslate2) -> mismo que ASR\n",
    "align_device    = asr_device\n",
    "\n",
    "# Diarización (pyannote, PyTorch) -> puede usar MPS, si no CPU\n",
    "diar_device     = \"mps\" if has_mps else (\"cuda\" if has_cuda else \"cpu\")\n",
    "\n",
    "# (Opcional) hilos CPU para CTranslate2\n",
    "asr_threads = max(1, os.cpu_count() // 2)\n",
    "\n",
    "print(f\"🔹 Usando device: {asr_device}\")\n",
    "\n",
    "language = \"es\"  # Cambia si necesitas otro idioma"
   ]
  },
  {
   "cell_type": "code",
   "execution_count": 6,
   "id": "9895560d",
   "metadata": {},
   "outputs": [
    {
     "name": "stdout",
     "output_type": "stream",
     "text": [
      "🔹 Cargando modelo WhisperX...\n"
     ]
    },
    {
     "name": "stderr",
     "output_type": "stream",
     "text": [
      "C:\\Users\\Admn\\AppData\\Local\\Programs\\Python\\Python310\\lib\\inspect.py:869: UserWarning: Module 'speechbrain.pretrained' was deprecated, redirecting to 'speechbrain.inference'. Please update your script. This is a change from SpeechBrain 1.0. See: https://github.com/speechbrain/speechbrain/releases/tag/v1.0.0\n",
      "  if ismodule(module) and hasattr(module, '__file__'):\n",
      "Lightning automatically upgraded your loaded checkpoint from v1.5.4 to v2.5.4. To apply the upgrade to your files permanently, run `python -m pytorch_lightning.utilities.upgrade_checkpoint c:\\Users\\Admn\\Desktop\\Entrevistas\\settlements-surveys\\venv\\lib\\site-packages\\whisperx\\assets\\pytorch_model.bin`\n"
     ]
    },
    {
     "name": "stdout",
     "output_type": "stream",
     "text": [
      ">>Performing voice activity detection using Pyannote...\n",
      "Model was trained with pyannote.audio 0.0.1, yours is 3.3.2. Bad things might happen unless you revert pyannote.audio to 0.x.\n",
      "Model was trained with torch 1.10.0+cu102, yours is 2.5.1+cu121. Bad things might happen unless you revert torch to 1.x.\n",
      "🔹 Cargando modelo de alineación...\n"
     ]
    }
   ],
   "source": [
    "# Carga del Modelo\n",
    "print(\"🔹 Cargando modelo WhisperX...\")\n",
    "model = whisperx.load_model(model_name, device=asr_device, compute_type=asr_compute, language=language)\n",
    "#Carga del Modelo de Alineacion\n",
    "print(\"🔹 Cargando modelo de alineación...\")\n",
    "align_model, metadata = whisperx.load_align_model(language_code=language, device=align_device)"
   ]
  },
  {
   "cell_type": "code",
   "execution_count": 7,
   "id": "286daabf",
   "metadata": {},
   "outputs": [
    {
     "name": "stdout",
     "output_type": "stream",
     "text": [
      "\n",
      "🔹 Procesando archivo: 60.m4a\n",
      "🔹 Realizando alineación...\n"
     ]
    },
    {
     "name": "stderr",
     "output_type": "stream",
     "text": [
      "c:\\Users\\Admn\\Desktop\\Entrevistas\\settlements-surveys\\venv\\lib\\site-packages\\pyannote\\audio\\utils\\reproducibility.py:74: ReproducibilityWarning: TensorFloat-32 (TF32) has been disabled as it might lead to reproducibility issues and lower accuracy.\n",
      "It can be re-enabled by calling\n",
      "   >>> import torch\n",
      "   >>> torch.backends.cuda.matmul.allow_tf32 = True\n",
      "   >>> torch.backends.cudnn.allow_tf32 = True\n",
      "See https://github.com/pyannote/pyannote-audio/issues/1370 for more details.\n",
      "\n",
      "  warnings.warn(\n",
      "c:\\Users\\Admn\\Desktop\\Entrevistas\\settlements-surveys\\venv\\lib\\site-packages\\pyannote\\audio\\models\\blocks\\pooling.py:104: UserWarning: std(): degrees of freedom is <= 0. Correction should be strictly less than the reduction factor (input numel divided by output numel). (Triggered internally at C:\\actions-runner\\_work\\pytorch\\pytorch\\builder\\windows\\pytorch\\aten\\src\\ATen\\native\\ReduceOps.cpp:1823.)\n",
      "  std = sequences.std(dim=-1, correction=1)\n"
     ]
    },
    {
     "name": "stdout",
     "output_type": "stream",
     "text": [
      "🔹 Guardando resultados en C:\\Users\\Admn\\Desktop\\Entrevistas\\Audios\\output_json\\60.json ...\n",
      "✅ Listo: C:\\Users\\Admn\\Desktop\\Entrevistas\\Audios\\output_json\\60.json\n",
      "\n",
      "🔹 Procesando archivo: 69.m4a\n",
      "🔹 Realizando alineación...\n"
     ]
    },
    {
     "name": "stderr",
     "output_type": "stream",
     "text": [
      "c:\\Users\\Admn\\Desktop\\Entrevistas\\settlements-surveys\\venv\\lib\\site-packages\\pyannote\\audio\\models\\blocks\\pooling.py:104: UserWarning: std(): degrees of freedom is <= 0. Correction should be strictly less than the reduction factor (input numel divided by output numel). (Triggered internally at C:\\actions-runner\\_work\\pytorch\\pytorch\\builder\\windows\\pytorch\\aten\\src\\ATen\\native\\ReduceOps.cpp:1823.)\n",
      "  std = sequences.std(dim=-1, correction=1)\n"
     ]
    },
    {
     "name": "stdout",
     "output_type": "stream",
     "text": [
      "🔹 Guardando resultados en C:\\Users\\Admn\\Desktop\\Entrevistas\\Audios\\output_json\\69.json ...\n",
      "✅ Listo: C:\\Users\\Admn\\Desktop\\Entrevistas\\Audios\\output_json\\69.json\n",
      "\n",
      "🔹 Procesando archivo: 75 -1.m4a\n",
      "🔹 Realizando alineación...\n"
     ]
    },
    {
     "name": "stderr",
     "output_type": "stream",
     "text": [
      "c:\\Users\\Admn\\Desktop\\Entrevistas\\settlements-surveys\\venv\\lib\\site-packages\\pyannote\\audio\\models\\blocks\\pooling.py:104: UserWarning: std(): degrees of freedom is <= 0. Correction should be strictly less than the reduction factor (input numel divided by output numel). (Triggered internally at C:\\actions-runner\\_work\\pytorch\\pytorch\\builder\\windows\\pytorch\\aten\\src\\ATen\\native\\ReduceOps.cpp:1823.)\n",
      "  std = sequences.std(dim=-1, correction=1)\n"
     ]
    },
    {
     "name": "stdout",
     "output_type": "stream",
     "text": [
      "🔹 Guardando resultados en C:\\Users\\Admn\\Desktop\\Entrevistas\\Audios\\output_json\\75 -1.json ...\n",
      "✅ Listo: C:\\Users\\Admn\\Desktop\\Entrevistas\\Audios\\output_json\\75 -1.json\n",
      "\n",
      "🔹 Procesando archivo: 77.m4a\n",
      "🔹 Realizando alineación...\n"
     ]
    },
    {
     "name": "stderr",
     "output_type": "stream",
     "text": [
      "c:\\Users\\Admn\\Desktop\\Entrevistas\\settlements-surveys\\venv\\lib\\site-packages\\pyannote\\audio\\models\\blocks\\pooling.py:104: UserWarning: std(): degrees of freedom is <= 0. Correction should be strictly less than the reduction factor (input numel divided by output numel). (Triggered internally at C:\\actions-runner\\_work\\pytorch\\pytorch\\builder\\windows\\pytorch\\aten\\src\\ATen\\native\\ReduceOps.cpp:1823.)\n",
      "  std = sequences.std(dim=-1, correction=1)\n"
     ]
    },
    {
     "name": "stdout",
     "output_type": "stream",
     "text": [
      "🔹 Guardando resultados en C:\\Users\\Admn\\Desktop\\Entrevistas\\Audios\\output_json\\77.json ...\n",
      "✅ Listo: C:\\Users\\Admn\\Desktop\\Entrevistas\\Audios\\output_json\\77.json\n",
      "\n",
      "🔹 Procesando archivo: Antonio Jael.m4a\n",
      "🔹 Realizando alineación...\n"
     ]
    },
    {
     "name": "stderr",
     "output_type": "stream",
     "text": [
      "c:\\Users\\Admn\\Desktop\\Entrevistas\\settlements-surveys\\venv\\lib\\site-packages\\pyannote\\audio\\models\\blocks\\pooling.py:104: UserWarning: std(): degrees of freedom is <= 0. Correction should be strictly less than the reduction factor (input numel divided by output numel). (Triggered internally at C:\\actions-runner\\_work\\pytorch\\pytorch\\builder\\windows\\pytorch\\aten\\src\\ATen\\native\\ReduceOps.cpp:1823.)\n",
      "  std = sequences.std(dim=-1, correction=1)\n"
     ]
    },
    {
     "name": "stdout",
     "output_type": "stream",
     "text": [
      "🔹 Guardando resultados en C:\\Users\\Admn\\Desktop\\Entrevistas\\Audios\\output_json\\Antonio Jael.json ...\n",
      "✅ Listo: C:\\Users\\Admn\\Desktop\\Entrevistas\\Audios\\output_json\\Antonio Jael.json\n",
      "\n",
      "🔹 Procesando archivo: Brigit Velasquez.mp4\n",
      "🔹 Realizando alineación...\n"
     ]
    },
    {
     "name": "stderr",
     "output_type": "stream",
     "text": [
      "c:\\Users\\Admn\\Desktop\\Entrevistas\\settlements-surveys\\venv\\lib\\site-packages\\pyannote\\audio\\models\\blocks\\pooling.py:104: UserWarning: std(): degrees of freedom is <= 0. Correction should be strictly less than the reduction factor (input numel divided by output numel). (Triggered internally at C:\\actions-runner\\_work\\pytorch\\pytorch\\builder\\windows\\pytorch\\aten\\src\\ATen\\native\\ReduceOps.cpp:1823.)\n",
      "  std = sequences.std(dim=-1, correction=1)\n"
     ]
    },
    {
     "name": "stdout",
     "output_type": "stream",
     "text": [
      "🔹 Guardando resultados en C:\\Users\\Admn\\Desktop\\Entrevistas\\Audios\\output_json\\Brigit Velasquez.json ...\n",
      "✅ Listo: C:\\Users\\Admn\\Desktop\\Entrevistas\\Audios\\output_json\\Brigit Velasquez.json\n",
      "\n",
      "🔹 Procesando archivo: Casa 68.m4a\n",
      "🔹 Realizando alineación...\n"
     ]
    },
    {
     "name": "stderr",
     "output_type": "stream",
     "text": [
      "c:\\Users\\Admn\\Desktop\\Entrevistas\\settlements-surveys\\venv\\lib\\site-packages\\pyannote\\audio\\models\\blocks\\pooling.py:104: UserWarning: std(): degrees of freedom is <= 0. Correction should be strictly less than the reduction factor (input numel divided by output numel). (Triggered internally at C:\\actions-runner\\_work\\pytorch\\pytorch\\builder\\windows\\pytorch\\aten\\src\\ATen\\native\\ReduceOps.cpp:1823.)\n",
      "  std = sequences.std(dim=-1, correction=1)\n"
     ]
    },
    {
     "name": "stdout",
     "output_type": "stream",
     "text": [
      "🔹 Guardando resultados en C:\\Users\\Admn\\Desktop\\Entrevistas\\Audios\\output_json\\Casa 68.json ...\n",
      "✅ Listo: C:\\Users\\Admn\\Desktop\\Entrevistas\\Audios\\output_json\\Casa 68.json\n",
      "\n",
      "🔹 Procesando archivo: Casa 71.m4a\n",
      "🔹 Realizando alineación...\n"
     ]
    },
    {
     "name": "stderr",
     "output_type": "stream",
     "text": [
      "c:\\Users\\Admn\\Desktop\\Entrevistas\\settlements-surveys\\venv\\lib\\site-packages\\pyannote\\audio\\models\\blocks\\pooling.py:104: UserWarning: std(): degrees of freedom is <= 0. Correction should be strictly less than the reduction factor (input numel divided by output numel). (Triggered internally at C:\\actions-runner\\_work\\pytorch\\pytorch\\builder\\windows\\pytorch\\aten\\src\\ATen\\native\\ReduceOps.cpp:1823.)\n",
      "  std = sequences.std(dim=-1, correction=1)\n"
     ]
    },
    {
     "name": "stdout",
     "output_type": "stream",
     "text": [
      "🔹 Guardando resultados en C:\\Users\\Admn\\Desktop\\Entrevistas\\Audios\\output_json\\Casa 71.json ...\n",
      "✅ Listo: C:\\Users\\Admn\\Desktop\\Entrevistas\\Audios\\output_json\\Casa 71.json\n",
      "\n",
      "🔹 Procesando archivo: Casa 72-2.aac\n",
      "🔹 Realizando alineación...\n"
     ]
    },
    {
     "name": "stderr",
     "output_type": "stream",
     "text": [
      "c:\\Users\\Admn\\Desktop\\Entrevistas\\settlements-surveys\\venv\\lib\\site-packages\\pyannote\\audio\\models\\blocks\\pooling.py:104: UserWarning: std(): degrees of freedom is <= 0. Correction should be strictly less than the reduction factor (input numel divided by output numel). (Triggered internally at C:\\actions-runner\\_work\\pytorch\\pytorch\\builder\\windows\\pytorch\\aten\\src\\ATen\\native\\ReduceOps.cpp:1823.)\n",
      "  std = sequences.std(dim=-1, correction=1)\n"
     ]
    },
    {
     "name": "stdout",
     "output_type": "stream",
     "text": [
      "🔹 Guardando resultados en C:\\Users\\Admn\\Desktop\\Entrevistas\\Audios\\output_json\\Casa 72-2.json ...\n",
      "✅ Listo: C:\\Users\\Admn\\Desktop\\Entrevistas\\Audios\\output_json\\Casa 72-2.json\n",
      "\n",
      "🔹 Procesando archivo: Casa 73.m4a\n",
      "🔹 Realizando alineación...\n"
     ]
    },
    {
     "name": "stderr",
     "output_type": "stream",
     "text": [
      "c:\\Users\\Admn\\Desktop\\Entrevistas\\settlements-surveys\\venv\\lib\\site-packages\\pyannote\\audio\\models\\blocks\\pooling.py:104: UserWarning: std(): degrees of freedom is <= 0. Correction should be strictly less than the reduction factor (input numel divided by output numel). (Triggered internally at C:\\actions-runner\\_work\\pytorch\\pytorch\\builder\\windows\\pytorch\\aten\\src\\ATen\\native\\ReduceOps.cpp:1823.)\n",
      "  std = sequences.std(dim=-1, correction=1)\n"
     ]
    },
    {
     "name": "stdout",
     "output_type": "stream",
     "text": [
      "🔹 Guardando resultados en C:\\Users\\Admn\\Desktop\\Entrevistas\\Audios\\output_json\\Casa 73.json ...\n",
      "✅ Listo: C:\\Users\\Admn\\Desktop\\Entrevistas\\Audios\\output_json\\Casa 73.json\n",
      "\n",
      "🔹 Procesando archivo: Casa 78.m4a\n",
      "🔹 Realizando alineación...\n"
     ]
    },
    {
     "name": "stderr",
     "output_type": "stream",
     "text": [
      "c:\\Users\\Admn\\Desktop\\Entrevistas\\settlements-surveys\\venv\\lib\\site-packages\\pyannote\\audio\\models\\blocks\\pooling.py:104: UserWarning: std(): degrees of freedom is <= 0. Correction should be strictly less than the reduction factor (input numel divided by output numel). (Triggered internally at C:\\actions-runner\\_work\\pytorch\\pytorch\\builder\\windows\\pytorch\\aten\\src\\ATen\\native\\ReduceOps.cpp:1823.)\n",
      "  std = sequences.std(dim=-1, correction=1)\n"
     ]
    },
    {
     "name": "stdout",
     "output_type": "stream",
     "text": [
      "🔹 Guardando resultados en C:\\Users\\Admn\\Desktop\\Entrevistas\\Audios\\output_json\\Casa 78.json ...\n",
      "✅ Listo: C:\\Users\\Admn\\Desktop\\Entrevistas\\Audios\\output_json\\Casa 78.json\n",
      "\n",
      "🔹 Procesando archivo: Casa 88.aac\n",
      "🔹 Realizando alineación...\n"
     ]
    },
    {
     "name": "stderr",
     "output_type": "stream",
     "text": [
      "c:\\Users\\Admn\\Desktop\\Entrevistas\\settlements-surveys\\venv\\lib\\site-packages\\pyannote\\audio\\models\\blocks\\pooling.py:104: UserWarning: std(): degrees of freedom is <= 0. Correction should be strictly less than the reduction factor (input numel divided by output numel). (Triggered internally at C:\\actions-runner\\_work\\pytorch\\pytorch\\builder\\windows\\pytorch\\aten\\src\\ATen\\native\\ReduceOps.cpp:1823.)\n",
      "  std = sequences.std(dim=-1, correction=1)\n"
     ]
    },
    {
     "name": "stdout",
     "output_type": "stream",
     "text": [
      "🔹 Guardando resultados en C:\\Users\\Admn\\Desktop\\Entrevistas\\Audios\\output_json\\Casa 88.json ...\n",
      "✅ Listo: C:\\Users\\Admn\\Desktop\\Entrevistas\\Audios\\output_json\\Casa 88.json\n",
      "\n",
      "🔹 Procesando archivo: Casa 91.m4a\n",
      "🔹 Realizando alineación...\n"
     ]
    },
    {
     "name": "stderr",
     "output_type": "stream",
     "text": [
      "c:\\Users\\Admn\\Desktop\\Entrevistas\\settlements-surveys\\venv\\lib\\site-packages\\pyannote\\audio\\models\\blocks\\pooling.py:104: UserWarning: std(): degrees of freedom is <= 0. Correction should be strictly less than the reduction factor (input numel divided by output numel). (Triggered internally at C:\\actions-runner\\_work\\pytorch\\pytorch\\builder\\windows\\pytorch\\aten\\src\\ATen\\native\\ReduceOps.cpp:1823.)\n",
      "  std = sequences.std(dim=-1, correction=1)\n"
     ]
    },
    {
     "name": "stdout",
     "output_type": "stream",
     "text": [
      "🔹 Guardando resultados en C:\\Users\\Admn\\Desktop\\Entrevistas\\Audios\\output_json\\Casa 91.json ...\n",
      "✅ Listo: C:\\Users\\Admn\\Desktop\\Entrevistas\\Audios\\output_json\\Casa 91.json\n",
      "\n",
      "🔹 Procesando archivo: Cecilia Corona.mp3\n",
      "🔹 Realizando alineación...\n"
     ]
    },
    {
     "name": "stderr",
     "output_type": "stream",
     "text": [
      "c:\\Users\\Admn\\Desktop\\Entrevistas\\settlements-surveys\\venv\\lib\\site-packages\\pyannote\\audio\\models\\blocks\\pooling.py:104: UserWarning: std(): degrees of freedom is <= 0. Correction should be strictly less than the reduction factor (input numel divided by output numel). (Triggered internally at C:\\actions-runner\\_work\\pytorch\\pytorch\\builder\\windows\\pytorch\\aten\\src\\ATen\\native\\ReduceOps.cpp:1823.)\n",
      "  std = sequences.std(dim=-1, correction=1)\n"
     ]
    },
    {
     "name": "stdout",
     "output_type": "stream",
     "text": [
      "🔹 Guardando resultados en C:\\Users\\Admn\\Desktop\\Entrevistas\\Audios\\output_json\\Cecilia Corona.json ...\n",
      "✅ Listo: C:\\Users\\Admn\\Desktop\\Entrevistas\\Audios\\output_json\\Cecilia Corona.json\n",
      "\n",
      "🔹 Procesando archivo: Daniel Romero_Casa 72-1.aac\n",
      "🔹 Realizando alineación...\n"
     ]
    },
    {
     "name": "stderr",
     "output_type": "stream",
     "text": [
      "c:\\Users\\Admn\\Desktop\\Entrevistas\\settlements-surveys\\venv\\lib\\site-packages\\pyannote\\audio\\models\\blocks\\pooling.py:104: UserWarning: std(): degrees of freedom is <= 0. Correction should be strictly less than the reduction factor (input numel divided by output numel). (Triggered internally at C:\\actions-runner\\_work\\pytorch\\pytorch\\builder\\windows\\pytorch\\aten\\src\\ATen\\native\\ReduceOps.cpp:1823.)\n",
      "  std = sequences.std(dim=-1, correction=1)\n"
     ]
    },
    {
     "name": "stdout",
     "output_type": "stream",
     "text": [
      "🔹 Guardando resultados en C:\\Users\\Admn\\Desktop\\Entrevistas\\Audios\\output_json\\Daniel Romero_Casa 72-1.json ...\n",
      "✅ Listo: C:\\Users\\Admn\\Desktop\\Entrevistas\\Audios\\output_json\\Daniel Romero_Casa 72-1.json\n",
      "\n",
      "🔹 Procesando archivo: Jessica Ulcuango.mp4\n",
      "🔹 Realizando alineación...\n"
     ]
    },
    {
     "name": "stderr",
     "output_type": "stream",
     "text": [
      "c:\\Users\\Admn\\Desktop\\Entrevistas\\settlements-surveys\\venv\\lib\\site-packages\\pyannote\\audio\\models\\blocks\\pooling.py:104: UserWarning: std(): degrees of freedom is <= 0. Correction should be strictly less than the reduction factor (input numel divided by output numel). (Triggered internally at C:\\actions-runner\\_work\\pytorch\\pytorch\\builder\\windows\\pytorch\\aten\\src\\ATen\\native\\ReduceOps.cpp:1823.)\n",
      "  std = sequences.std(dim=-1, correction=1)\n"
     ]
    },
    {
     "name": "stdout",
     "output_type": "stream",
     "text": [
      "🔹 Guardando resultados en C:\\Users\\Admn\\Desktop\\Entrevistas\\Audios\\output_json\\Jessica Ulcuango.json ...\n",
      "✅ Listo: C:\\Users\\Admn\\Desktop\\Entrevistas\\Audios\\output_json\\Jessica Ulcuango.json\n",
      "\n",
      "🔹 Procesando archivo: Jonathan Pacheco.m4a\n",
      "🔹 Realizando alineación...\n"
     ]
    },
    {
     "name": "stderr",
     "output_type": "stream",
     "text": [
      "c:\\Users\\Admn\\Desktop\\Entrevistas\\settlements-surveys\\venv\\lib\\site-packages\\pyannote\\audio\\models\\blocks\\pooling.py:104: UserWarning: std(): degrees of freedom is <= 0. Correction should be strictly less than the reduction factor (input numel divided by output numel). (Triggered internally at C:\\actions-runner\\_work\\pytorch\\pytorch\\builder\\windows\\pytorch\\aten\\src\\ATen\\native\\ReduceOps.cpp:1823.)\n",
      "  std = sequences.std(dim=-1, correction=1)\n"
     ]
    },
    {
     "name": "stdout",
     "output_type": "stream",
     "text": [
      "🔹 Guardando resultados en C:\\Users\\Admn\\Desktop\\Entrevistas\\Audios\\output_json\\Jonathan Pacheco.json ...\n",
      "✅ Listo: C:\\Users\\Admn\\Desktop\\Entrevistas\\Audios\\output_json\\Jonathan Pacheco.json\n",
      "\n",
      "🔹 Procesando archivo: Maria Acosta.m4a\n",
      "🔹 Realizando alineación...\n"
     ]
    },
    {
     "name": "stderr",
     "output_type": "stream",
     "text": [
      "c:\\Users\\Admn\\Desktop\\Entrevistas\\settlements-surveys\\venv\\lib\\site-packages\\pyannote\\audio\\models\\blocks\\pooling.py:104: UserWarning: std(): degrees of freedom is <= 0. Correction should be strictly less than the reduction factor (input numel divided by output numel). (Triggered internally at C:\\actions-runner\\_work\\pytorch\\pytorch\\builder\\windows\\pytorch\\aten\\src\\ATen\\native\\ReduceOps.cpp:1823.)\n",
      "  std = sequences.std(dim=-1, correction=1)\n"
     ]
    },
    {
     "name": "stdout",
     "output_type": "stream",
     "text": [
      "🔹 Guardando resultados en C:\\Users\\Admn\\Desktop\\Entrevistas\\Audios\\output_json\\Maria Acosta.json ...\n",
      "✅ Listo: C:\\Users\\Admn\\Desktop\\Entrevistas\\Audios\\output_json\\Maria Acosta.json\n",
      "\n",
      "🔹 Procesando archivo: Maria Fica.m4a\n",
      "🔹 Realizando alineación...\n"
     ]
    },
    {
     "name": "stderr",
     "output_type": "stream",
     "text": [
      "c:\\Users\\Admn\\Desktop\\Entrevistas\\settlements-surveys\\venv\\lib\\site-packages\\pyannote\\audio\\models\\blocks\\pooling.py:104: UserWarning: std(): degrees of freedom is <= 0. Correction should be strictly less than the reduction factor (input numel divided by output numel). (Triggered internally at C:\\actions-runner\\_work\\pytorch\\pytorch\\builder\\windows\\pytorch\\aten\\src\\ATen\\native\\ReduceOps.cpp:1823.)\n",
      "  std = sequences.std(dim=-1, correction=1)\n"
     ]
    },
    {
     "name": "stdout",
     "output_type": "stream",
     "text": [
      "🔹 Guardando resultados en C:\\Users\\Admn\\Desktop\\Entrevistas\\Audios\\output_json\\Maria Fica.json ...\n",
      "✅ Listo: C:\\Users\\Admn\\Desktop\\Entrevistas\\Audios\\output_json\\Maria Fica.json\n",
      "\n",
      "🔹 Procesando archivo: Maria Reyes.mp3\n",
      "🔹 Realizando alineación...\n"
     ]
    },
    {
     "name": "stderr",
     "output_type": "stream",
     "text": [
      "c:\\Users\\Admn\\Desktop\\Entrevistas\\settlements-surveys\\venv\\lib\\site-packages\\pyannote\\audio\\models\\blocks\\pooling.py:104: UserWarning: std(): degrees of freedom is <= 0. Correction should be strictly less than the reduction factor (input numel divided by output numel). (Triggered internally at C:\\actions-runner\\_work\\pytorch\\pytorch\\builder\\windows\\pytorch\\aten\\src\\ATen\\native\\ReduceOps.cpp:1823.)\n",
      "  std = sequences.std(dim=-1, correction=1)\n"
     ]
    },
    {
     "name": "stdout",
     "output_type": "stream",
     "text": [
      "🔹 Guardando resultados en C:\\Users\\Admn\\Desktop\\Entrevistas\\Audios\\output_json\\Maria Reyes.json ...\n",
      "✅ Listo: C:\\Users\\Admn\\Desktop\\Entrevistas\\Audios\\output_json\\Maria Reyes.json\n",
      "\n",
      "🔹 Procesando archivo: Maryoribeth Isea.mp4\n",
      "🔹 Realizando alineación...\n"
     ]
    },
    {
     "name": "stderr",
     "output_type": "stream",
     "text": [
      "c:\\Users\\Admn\\Desktop\\Entrevistas\\settlements-surveys\\venv\\lib\\site-packages\\pyannote\\audio\\models\\blocks\\pooling.py:104: UserWarning: std(): degrees of freedom is <= 0. Correction should be strictly less than the reduction factor (input numel divided by output numel). (Triggered internally at C:\\actions-runner\\_work\\pytorch\\pytorch\\builder\\windows\\pytorch\\aten\\src\\ATen\\native\\ReduceOps.cpp:1823.)\n",
      "  std = sequences.std(dim=-1, correction=1)\n"
     ]
    },
    {
     "name": "stdout",
     "output_type": "stream",
     "text": [
      "🔹 Guardando resultados en C:\\Users\\Admn\\Desktop\\Entrevistas\\Audios\\output_json\\Maryoribeth Isea.json ...\n",
      "✅ Listo: C:\\Users\\Admn\\Desktop\\Entrevistas\\Audios\\output_json\\Maryoribeth Isea.json\n",
      "\n",
      "🔹 Procesando archivo: Maryory Valestrini.mp3\n",
      "🔹 Realizando alineación...\n"
     ]
    },
    {
     "name": "stderr",
     "output_type": "stream",
     "text": [
      "c:\\Users\\Admn\\Desktop\\Entrevistas\\settlements-surveys\\venv\\lib\\site-packages\\pyannote\\audio\\models\\blocks\\pooling.py:104: UserWarning: std(): degrees of freedom is <= 0. Correction should be strictly less than the reduction factor (input numel divided by output numel). (Triggered internally at C:\\actions-runner\\_work\\pytorch\\pytorch\\builder\\windows\\pytorch\\aten\\src\\ATen\\native\\ReduceOps.cpp:1823.)\n",
      "  std = sequences.std(dim=-1, correction=1)\n"
     ]
    },
    {
     "name": "stdout",
     "output_type": "stream",
     "text": [
      "🔹 Guardando resultados en C:\\Users\\Admn\\Desktop\\Entrevistas\\Audios\\output_json\\Maryory Valestrini.json ...\n",
      "✅ Listo: C:\\Users\\Admn\\Desktop\\Entrevistas\\Audios\\output_json\\Maryory Valestrini.json\n",
      "\n",
      "🔹 Procesando archivo: Milexi Rodriguez 73.m4a\n",
      "🔹 Realizando alineación...\n"
     ]
    },
    {
     "name": "stderr",
     "output_type": "stream",
     "text": [
      "c:\\Users\\Admn\\Desktop\\Entrevistas\\settlements-surveys\\venv\\lib\\site-packages\\pyannote\\audio\\models\\blocks\\pooling.py:104: UserWarning: std(): degrees of freedom is <= 0. Correction should be strictly less than the reduction factor (input numel divided by output numel). (Triggered internally at C:\\actions-runner\\_work\\pytorch\\pytorch\\builder\\windows\\pytorch\\aten\\src\\ATen\\native\\ReduceOps.cpp:1823.)\n",
      "  std = sequences.std(dim=-1, correction=1)\n"
     ]
    },
    {
     "name": "stdout",
     "output_type": "stream",
     "text": [
      "🔹 Guardando resultados en C:\\Users\\Admn\\Desktop\\Entrevistas\\Audios\\output_json\\Milexi Rodriguez 73.json ...\n",
      "✅ Listo: C:\\Users\\Admn\\Desktop\\Entrevistas\\Audios\\output_json\\Milexi Rodriguez 73.json\n",
      "\n",
      "🔹 Procesando archivo: Nicolas Montanares.mp4\n",
      "🔹 Realizando alineación...\n"
     ]
    },
    {
     "name": "stderr",
     "output_type": "stream",
     "text": [
      "c:\\Users\\Admn\\Desktop\\Entrevistas\\settlements-surveys\\venv\\lib\\site-packages\\pyannote\\audio\\models\\blocks\\pooling.py:104: UserWarning: std(): degrees of freedom is <= 0. Correction should be strictly less than the reduction factor (input numel divided by output numel). (Triggered internally at C:\\actions-runner\\_work\\pytorch\\pytorch\\builder\\windows\\pytorch\\aten\\src\\ATen\\native\\ReduceOps.cpp:1823.)\n",
      "  std = sequences.std(dim=-1, correction=1)\n"
     ]
    },
    {
     "name": "stdout",
     "output_type": "stream",
     "text": [
      "🔹 Guardando resultados en C:\\Users\\Admn\\Desktop\\Entrevistas\\Audios\\output_json\\Nicolas Montanares.json ...\n",
      "✅ Listo: C:\\Users\\Admn\\Desktop\\Entrevistas\\Audios\\output_json\\Nicolas Montanares.json\n",
      "\n",
      "🔹 Procesando archivo: Tamara Lara.mp4\n",
      "🔹 Realizando alineación...\n"
     ]
    },
    {
     "name": "stderr",
     "output_type": "stream",
     "text": [
      "c:\\Users\\Admn\\Desktop\\Entrevistas\\settlements-surveys\\venv\\lib\\site-packages\\pyannote\\audio\\models\\blocks\\pooling.py:104: UserWarning: std(): degrees of freedom is <= 0. Correction should be strictly less than the reduction factor (input numel divided by output numel). (Triggered internally at C:\\actions-runner\\_work\\pytorch\\pytorch\\builder\\windows\\pytorch\\aten\\src\\ATen\\native\\ReduceOps.cpp:1823.)\n",
      "  std = sequences.std(dim=-1, correction=1)\n"
     ]
    },
    {
     "name": "stdout",
     "output_type": "stream",
     "text": [
      "🔹 Guardando resultados en C:\\Users\\Admn\\Desktop\\Entrevistas\\Audios\\output_json\\Tamara Lara.json ...\n",
      "✅ Listo: C:\\Users\\Admn\\Desktop\\Entrevistas\\Audios\\output_json\\Tamara Lara.json\n",
      "\n",
      "🔹 Procesando archivo: Yam jamett.m4a\n",
      "🔹 Realizando alineación...\n"
     ]
    },
    {
     "name": "stderr",
     "output_type": "stream",
     "text": [
      "c:\\Users\\Admn\\Desktop\\Entrevistas\\settlements-surveys\\venv\\lib\\site-packages\\pyannote\\audio\\models\\blocks\\pooling.py:104: UserWarning: std(): degrees of freedom is <= 0. Correction should be strictly less than the reduction factor (input numel divided by output numel). (Triggered internally at C:\\actions-runner\\_work\\pytorch\\pytorch\\builder\\windows\\pytorch\\aten\\src\\ATen\\native\\ReduceOps.cpp:1823.)\n",
      "  std = sequences.std(dim=-1, correction=1)\n"
     ]
    },
    {
     "name": "stdout",
     "output_type": "stream",
     "text": [
      "🔹 Guardando resultados en C:\\Users\\Admn\\Desktop\\Entrevistas\\Audios\\output_json\\Yam jamett.json ...\n",
      "✅ Listo: C:\\Users\\Admn\\Desktop\\Entrevistas\\Audios\\output_json\\Yam jamett.json\n"
     ]
    }
   ],
   "source": [
    "# --- Procesar todos los archivos ---\n",
    "for fname in drive_files:\n",
    "    print(f\"\\n🔹 Procesando archivo: {fname}\")\n",
    "    audio_path = os.path.join(drive_path, fname)\n",
    "    out_path = os.path.join(output_dir, os.path.splitext(fname)[0] + \".json\")\n",
    "\n",
    "    try:\n",
    "        # 1) Transcripción\n",
    "        asr_result = model.transcribe(audio_path, batch_size=16)\n",
    "\n",
    "        # 2) Alineación\n",
    "        print(\"🔹 Realizando alineación...\")\n",
    "        aligned = whisperx.align(asr_result[\"segments\"], align_model, metadata, audio_path, align_device)\n",
    "\n",
    "        # 3) Diarización\n",
    "        from whisperx.diarize import DiarizationPipeline\n",
    "        diarize_pipeline = DiarizationPipeline(use_auth_token=hf_token, device=diar_device)\n",
    "        diarize_segments = diarize_pipeline(audio_path)\n",
    "\n",
    "        # 4) Asignar hablantes\n",
    "        diarized = whisperx.assign_word_speakers(diarize_segments, aligned)\n",
    "\n",
    "        # 5) Construcción de segmentos\n",
    "        segs = []\n",
    "        for seg in diarized[\"segments\"]:\n",
    "            if not seg.get(\"words\"):\n",
    "                continue\n",
    "            words = [w for w in seg[\"words\"] if \"start\" in w and \"end\" in w and \"speaker\" in w]\n",
    "            if not words:\n",
    "                continue\n",
    "            current_spk = words[0][\"speaker\"]\n",
    "            current_start = words[0][\"start\"]\n",
    "            current_text = []\n",
    "            for w in words:\n",
    "                if w[\"speaker\"] != current_spk:\n",
    "                    segs.append({\n",
    "                        \"speaker\": current_spk,\n",
    "                        \"start\": current_start,\n",
    "                        \"end\": prev_end,\n",
    "                        \"text\": \" \".join(current_text).strip()\n",
    "                    })\n",
    "                    current_spk = w[\"speaker\"]\n",
    "                    current_start = w[\"start\"]\n",
    "                    current_text = [w.get(\"word\", \"\")]\n",
    "                else:\n",
    "                    current_text.append(w.get(\"word\", \"\"))\n",
    "                prev_end = w[\"end\"]\n",
    "            segs.append({\n",
    "                \"speaker\": current_spk,\n",
    "                \"start\": current_start,\n",
    "                \"end\": prev_end,\n",
    "                \"text\": \" \".join(current_text).strip()\n",
    "            })\n",
    "\n",
    "        # 6) Unir tramos contiguos\n",
    "        turns = merge_contiguous_turns(sorted(segs, key=lambda x: (x[\"start\"], x[\"end\"])))\n",
    "\n",
    "        # 7) Estadísticas por hablante\n",
    "        speaker_stats = {}\n",
    "        for t in turns:\n",
    "            d = t[\"end\"] - t[\"start\"]\n",
    "            spk = t[\"speaker\"]\n",
    "            if spk not in speaker_stats:\n",
    "                speaker_stats[spk] = {\"total_sec\": 0.0, \"num_utts\": 0}\n",
    "            speaker_stats[spk][\"total_sec\"] += max(0.0, d)\n",
    "            speaker_stats[spk][\"num_utts\"] += 1\n",
    "\n",
    "        # 8) Detectar entrevistador\n",
    "        interviewer = guess_interviewer(speaker_stats, turns)\n",
    "\n",
    "        # 9) Preparar lista de hablantes\n",
    "        speakers_list = []\n",
    "        for spk, st in sorted(speaker_stats.items()):\n",
    "            speakers_list.append({\n",
    "                \"id\": spk,\n",
    "                \"total_sec\": round(st[\"total_sec\"], 3),\n",
    "                \"num_utts\": st[\"num_utts\"],\n",
    "                \"is_interviewer\": (spk == interviewer)\n",
    "            })\n",
    "\n",
    "        # 10) Construir QA\n",
    "        qa = build_qa(turns, interviewer)\n",
    "\n",
    "        # 11) Metadata\n",
    "        duration = get_duration_sec(audio_path) or 0\n",
    "        result_json = {\n",
    "            \"meta\": {\n",
    "                \"source_audio\": os.path.abspath(audio_path),\n",
    "                \"language\": asr_result['language'],\n",
    "                \"duration_sec\": round(duration, 3),\n",
    "                \"created_utc\": datetime.datetime.utcnow().replace(microsecond=0).isoformat() + \"Z\",\n",
    "                \"toolchain\": {\n",
    "                    \"asr\": f\"whisperx-{model_name}\",\n",
    "                    \"diarization\": \"pyannote\",\n",
    "                    \"alignment\": \"mfa\"\n",
    "                }\n",
    "            },\n",
    "            \"speakers\": speakers_list,\n",
    "            \"turns\": [\n",
    "                {\n",
    "                    \"speaker\": t[\"speaker\"],\n",
    "                    \"start\": round(t[\"start\"], 3),\n",
    "                    \"end\": round(t[\"end\"], 3),\n",
    "                    \"text\": t[\"text\"]\n",
    "                } for t in turns if t[\"text\"]\n",
    "            ],\n",
    "            \"qa\": qa\n",
    "        }\n",
    "\n",
    "        print(f\"🔹 Guardando resultados en {out_path} ...\")\n",
    "        with open(out_path, \"w\", encoding=\"utf-8\") as f:\n",
    "            json.dump(result_json, f, ensure_ascii=False, indent=2)\n",
    "\n",
    "        print(f\"✅ Listo: {out_path}\")\n",
    "\n",
    "    except Exception as e:\n",
    "        print(f\"❌ Error procesando {fname}: {str(e)}\")"
   ]
  }
 ],
 "metadata": {
  "kernelspec": {
   "display_name": "venv",
   "language": "python",
   "name": "python3"
  },
  "language_info": {
   "codemirror_mode": {
    "name": "ipython",
    "version": 3
   },
   "file_extension": ".py",
   "mimetype": "text/x-python",
   "name": "python",
   "nbconvert_exporter": "python",
   "pygments_lexer": "ipython3",
   "version": "3.10.0"
  }
 },
 "nbformat": 4,
 "nbformat_minor": 5
}
